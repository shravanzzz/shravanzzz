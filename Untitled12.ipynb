{
 "cells": [
  {
   "cell_type": "code",
   "execution_count": 1,
   "id": "de6ac932",
   "metadata": {},
   "outputs": [],
   "source": [
    "def greet_username(user):\n",
    "    print(f\"helo nyc to meet you,{user.title()}\")"
   ]
  },
  {
   "cell_type": "code",
   "execution_count": 2,
   "id": "22e43ccc",
   "metadata": {},
   "outputs": [
    {
     "name": "stdout",
     "output_type": "stream",
     "text": [
      "helo nyc to meet you,Shravan\n"
     ]
    }
   ],
   "source": [
    "greet_username('shravan')"
   ]
  },
  {
   "cell_type": "code",
   "execution_count": 3,
   "id": "b2f132b6",
   "metadata": {},
   "outputs": [
    {
     "name": "stdout",
     "output_type": "stream",
     "text": [
      "helo nyc to meet you,Nazreen\n"
     ]
    }
   ],
   "source": [
    "greet_username('nazreen')"
   ]
  },
  {
   "cell_type": "code",
   "execution_count": 4,
   "id": "b6ded2ff",
   "metadata": {},
   "outputs": [],
   "source": [
    "def example():\n",
    "    f_name='shravan'\n",
    "    l_name='kalakoti'\n",
    "    print(f\"my complete name is {f_name.upper()} {l_name.upper()}\")"
   ]
  },
  {
   "cell_type": "code",
   "execution_count": 5,
   "id": "271309ee",
   "metadata": {},
   "outputs": [
    {
     "name": "stdout",
     "output_type": "stream",
     "text": [
      "my complete name is SHRAVAN KALAKOTI\n"
     ]
    }
   ],
   "source": [
    "example()"
   ]
  },
  {
   "cell_type": "code",
   "execution_count": null,
   "id": "cc15e7a4",
   "metadata": {},
   "outputs": [],
   "source": []
  },
  {
   "cell_type": "code",
   "execution_count": null,
   "id": "5537782a",
   "metadata": {},
   "outputs": [],
   "source": [
    "introduction to arguments"
   ]
  },
  {
   "cell_type": "code",
   "execution_count": 9,
   "id": "fd0697b2",
   "metadata": {},
   "outputs": [],
   "source": [
    "def describe_pets(animal_type,pet_name):\n",
    "    print(f\" i have a {animal_type}\")\n",
    "    print(f\"my {animal_type}'s name is {pet_name}\")"
   ]
  },
  {
   "cell_type": "code",
   "execution_count": 10,
   "id": "cbac97cc",
   "metadata": {},
   "outputs": [
    {
     "name": "stdout",
     "output_type": "stream",
     "text": [
      " i have a dog\n",
      "my dog's name is bunny\n"
     ]
    }
   ],
   "source": [
    "describe_pets('dog','bunny')"
   ]
  },
  {
   "cell_type": "code",
   "execution_count": 11,
   "id": "3d3fe5d1",
   "metadata": {},
   "outputs": [
    {
     "name": "stdout",
     "output_type": "stream",
     "text": [
      " i have a dog\n",
      "my dog's name is remo\n"
     ]
    }
   ],
   "source": [
    "describe_pets('dog','remo')"
   ]
  },
  {
   "cell_type": "code",
   "execution_count": 12,
   "id": "4058a117",
   "metadata": {},
   "outputs": [],
   "source": [
    "def describe_pets(animal_type,pet_name):\n",
    "    print(f\" i have a {animal_type}\")\n",
    "    print(f\"my {animal_type}'s name is {pet_name}\")"
   ]
  },
  {
   "cell_type": "code",
   "execution_count": 14,
   "id": "e645cec4",
   "metadata": {},
   "outputs": [
    {
     "name": "stdout",
     "output_type": "stream",
     "text": [
      " i have a dog\n",
      "my dog's name is snowball\n"
     ]
    }
   ],
   "source": [
    "describe_pets(pet_name='snowball',animal_type='dog')"
   ]
  },
  {
   "cell_type": "code",
   "execution_count": 17,
   "id": "e230c024",
   "metadata": {},
   "outputs": [],
   "source": [
    "def describe_pets(animal_type,pet_name='bunny'):\n",
    "    print(f\" i have a {animal_type}\")\n",
    "    print(f\"my {animal_type}'s name is {pet_name}\")"
   ]
  },
  {
   "cell_type": "code",
   "execution_count": 16,
   "id": "6d6b45bb",
   "metadata": {},
   "outputs": [
    {
     "name": "stdout",
     "output_type": "stream",
     "text": [
      " i have a dog\n",
      "my dog's name is bunny\n"
     ]
    }
   ],
   "source": [
    "describe_pets()"
   ]
  },
  {
   "cell_type": "code",
   "execution_count": 18,
   "id": "0abffb71",
   "metadata": {},
   "outputs": [
    {
     "name": "stdout",
     "output_type": "stream",
     "text": [
      " i have a dog\n",
      "my dog's name is bunny\n"
     ]
    }
   ],
   "source": [
    "describe_pets('dog')"
   ]
  },
  {
   "cell_type": "code",
   "execution_count": 22,
   "id": "378daf5b",
   "metadata": {},
   "outputs": [],
   "source": [
    "def make_sandwich(item1,item2,item3):\n",
    "    print('sandwich is preparing for you')\n",
    "    print(f\"adding {item1} to your sandwich\")\n",
    "    print(f\"adding {item2} to your sandwich\")\n",
    "    print(f\"adding {item3} to your sandwich\")\n",
    "    print('your sandwich is prepared')\n",
    "    \n",
    "    "
   ]
  },
  {
   "cell_type": "code",
   "execution_count": 25,
   "id": "8b321097",
   "metadata": {},
   "outputs": [
    {
     "name": "stdout",
     "output_type": "stream",
     "text": [
      "sandwich is preparing for you\n",
      "adding cheese to your sandwich\n",
      "adding bread to your sandwich\n",
      "adding onions to your sandwich\n",
      "your sandwich is prepared\n",
      "sandwich is preparing for you\n",
      "adding butter to your sandwich\n",
      "adding honey to your sandwich\n",
      "adding salt to your sandwich\n",
      "your sandwich is prepared\n",
      "sandwich is preparing for you\n",
      "adding chicken to your sandwich\n",
      "adding bread to your sandwich\n",
      "adding onions to your sandwich\n",
      "your sandwich is prepared\n"
     ]
    }
   ],
   "source": [
    "make_sandwich('cheese','bread','onions')\n",
    "make_sandwich('butter','honey','salt')\n",
    "make_sandwich('chicken','bread','onions')"
   ]
  },
  {
   "cell_type": "markdown",
   "id": "8b7f14d7",
   "metadata": {},
   "source": []
  },
  {
   "cell_type": "code",
   "execution_count": 26,
   "id": "0577405b",
   "metadata": {},
   "outputs": [],
   "source": [
    "def greet(*msg):\n",
    "    for x in msg:\n",
    "        print(x)"
   ]
  },
  {
   "cell_type": "code",
   "execution_count": 27,
   "id": "6fc0e749",
   "metadata": {},
   "outputs": [
    {
     "name": "stdout",
     "output_type": "stream",
     "text": [
      "helooo\n",
      "hai\n",
      "how r u\n"
     ]
    }
   ],
   "source": [
    "greet('helooo','hai','how r u')"
   ]
  },
  {
   "cell_type": "code",
   "execution_count": null,
   "id": "f7475fea",
   "metadata": {},
   "outputs": [],
   "source": []
  }
 ],
 "metadata": {
  "kernelspec": {
   "display_name": "Python 3",
   "language": "python",
   "name": "python3"
  },
  "language_info": {
   "codemirror_mode": {
    "name": "ipython",
    "version": 3
   },
   "file_extension": ".py",
   "mimetype": "text/x-python",
   "name": "python",
   "nbconvert_exporter": "python",
   "pygments_lexer": "ipython3",
   "version": "3.8.8"
  }
 },
 "nbformat": 4,
 "nbformat_minor": 5
}
